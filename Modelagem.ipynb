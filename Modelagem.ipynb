{
 "cells": [
  {
   "cell_type": "markdown",
   "metadata": {},
   "source": [
    "#### Pacotes"
   ]
  },
  {
   "cell_type": "code",
   "execution_count": 49,
   "metadata": {},
   "outputs": [],
   "source": [
    "import pandas as pd\n",
    "import numpy as np\n",
    "pd.set_option('display.max_columns', 500)\n",
    "import warnings\n",
    "\n",
    "from pathlib import Path\n",
    "import pickle\n",
    "warnings.filterwarnings('ignore')\n",
    "\n",
    "# Importando libs de plots\n",
    "import matplotlib.pyplot as plt\n",
    "import seaborn as sns\n",
    "\n",
    "from sklearn.model_selection import train_test_split\n",
    "sns.set_style('darkgrid')\n",
    "# sns.set_context('talk')\n",
    "sns.set_palette('rainbow')\n",
    "sns.set_context(\"notebook\", font_scale=1.5, rc={\"lines.linewidth\": 2.5})"
   ]
  },
  {
   "cell_type": "code",
   "execution_count": 50,
   "metadata": {},
   "outputs": [],
   "source": [
    "df_o = pd.read_csv('../Case - End-to-end Machine Learning/Data/olist_orders_dataset.csv', parse_dates = ['order_purchase_timestamp', 'order_approved_at', 'order_delivered_carrier_date',\t'order_delivered_customer_date',\t'order_estimated_delivery_date'])\n",
    "df_oi = pd.read_csv('../Case - End-to-end Machine Learning/Data/olist_order_items_dataset.csv', parse_dates = ['shipping_limit_date'])\n",
    "df_op = pd.read_csv('../Case - End-to-end Machine Learning/Data/olist_order_payments_dataset.csv')\n",
    "df_or = pd.read_csv('../Case - End-to-end Machine Learning/Data/olist_order_reviews_dataset.csv')\n",
    "df_p = pd.read_csv('../Case - End-to-end Machine Learning/Data/olist_products_dataset.csv')\n",
    "df_s = pd.read_csv('../Case - End-to-end Machine Learning/Data/olist_sellers_dataset.csv')\n",
    "df_c = pd.read_csv('../Case - End-to-end Machine Learning/Data/olist_customers_dataset.csv')\n",
    "df_l = pd.read_csv('../Case - End-to-end Machine Learning/Data/olist_geolocation_dataset.csv')\n",
    "df_pc = pd.read_csv('../Case - End-to-end Machine Learning/Data/product_category_name_translation.csv')"
   ]
  },
  {
   "cell_type": "code",
   "execution_count": 51,
   "metadata": {},
   "outputs": [],
   "source": [
    "df_l_grouped = df_l.groupby('geolocation_zip_code_prefix')[['geolocation_lat',\t'geolocation_lng'\t]].mean().reset_index()"
   ]
  },
  {
   "cell_type": "code",
   "execution_count": 52,
   "metadata": {},
   "outputs": [],
   "source": [
    "df_o = pd.merge(left = df_o, right = df_c, on = ['customer_id'], how = 'left')\n",
    "df_o = pd.merge(left = df_o, right = df_op.groupby('order_id')['payment_value'].sum(), on = ['order_id'], how = 'left')\n",
    "df_o = pd.merge(left = df_o, right = df_or.groupby('order_id')['review_score'].mean().reset_index(), \n",
    "                on = ['order_id'], \n",
    "                how = 'left')\n",
    "df_o = pd.merge(left = df_o, \n",
    "                right = df_l_grouped.rename(columns = {'geolocation_lat' : 'c_lat',\t'geolocation_lng' : 'c_lng'}), \n",
    "                left_on = 'customer_zip_code_prefix',\n",
    "                right_on = 'geolocation_zip_code_prefix',\n",
    "                how = 'left')\n",
    "\n",
    "df_oi = pd.merge(left = df_oi, right = df_p, on = ['product_id'], how = 'left')\n",
    "df_oi = pd.merge(left = df_oi, right = df_s, on = ['seller_id'], how = 'left')\n",
    "df_oi = pd.merge(left = df_oi, \n",
    "                 right = df_l_grouped.rename(columns = {'geolocation_lat' : 's_lat',\t'geolocation_lng' : 's_lng'}),\n",
    "                 left_on = 'seller_zip_code_prefix',\n",
    "                 right_on = 'geolocation_zip_code_prefix', \n",
    "                 how = 'left')"
   ]
  },
  {
   "cell_type": "code",
   "execution_count": 53,
   "metadata": {},
   "outputs": [
    {
     "data": {
      "text/plain": [
       "Index(['order_id', 'order_item_id', 'product_id', 'seller_id',\n",
       "       'shipping_limit_date', 'price', 'freight_value',\n",
       "       'product_category_name', 'product_name_lenght',\n",
       "       'product_description_lenght', 'product_photos_qty', 'product_weight_g',\n",
       "       'product_length_cm', 'product_height_cm', 'product_width_cm',\n",
       "       'seller_zip_code_prefix', 'seller_city', 'seller_state',\n",
       "       'geolocation_zip_code_prefix', 's_lat', 's_lng'],\n",
       "      dtype='object')"
      ]
     },
     "execution_count": 53,
     "metadata": {},
     "output_type": "execute_result"
    }
   ],
   "source": [
    "df_oi.columns"
   ]
  },
  {
   "cell_type": "markdown",
   "metadata": {},
   "source": [
    "#### Feature Engineering Inicial\n",
    "#### Construindo algumas features que fazem sentido com o problema"
   ]
  },
  {
   "cell_type": "code",
   "execution_count": 54,
   "metadata": {},
   "outputs": [],
   "source": [
    "df_oi = pd.merge(left = df_oi, right = df_o, on = ['order_id'], how = 'left')"
   ]
  },
  {
   "cell_type": "code",
   "execution_count": 55,
   "metadata": {},
   "outputs": [],
   "source": [
    "import geopy.distance\n",
    "\n",
    "def calculate_distance(data):\n",
    "  try:\n",
    "    return geopy.distance.geodesic((data['c_lat'], data['c_lng']), (data['s_lat'], data['s_lng'])).km\n",
    "  except:\n",
    "    return 0\n",
    "\n",
    "df_oi['customer_seller_distance'] = df_oi.apply(calculate_distance, axis = 1)"
   ]
  },
  {
   "cell_type": "code",
   "execution_count": 56,
   "metadata": {},
   "outputs": [
    {
     "data": {
      "text/plain": [
       "(array([8.9846e+04, 1.4450e+04, 7.6220e+03, 7.2400e+02, 4.0000e+00,\n",
       "        1.0000e+00, 2.0000e+00, 0.0000e+00, 0.0000e+00, 1.0000e+00]),\n",
       " array([   0.        ,  865.21197221, 1730.42394441, 2595.63591662,\n",
       "        3460.84788882, 4326.05986103, 5191.27183323, 6056.48380544,\n",
       "        6921.69577764, 7786.90774985, 8652.11972205]),\n",
       " <BarContainer object of 10 artists>)"
      ]
     },
     "execution_count": 56,
     "metadata": {},
     "output_type": "execute_result"
    },
    {
     "data": {
      "image/png": "[encoded data removed]",
      "text/plain": [
       "<Figure size 640x480 with 1 Axes>"
      ]
     },
     "metadata": {},
     "output_type": "display_data"
    }
   ],
   "source": [
    "plt.hist(df_oi['customer_seller_distance'])"
   ]
  },
  {
   "cell_type": "code",
   "execution_count": 57,
   "metadata": {},
   "outputs": [],
   "source": [
    "df_oi['product_category_name'].fillna('unknown', inplace = True)"
   ]
  },
  {
   "cell_type": "code",
   "execution_count": 58,
   "metadata": {},
   "outputs": [],
   "source": [
    "df_oi_s = df_oi.groupby('seller_id').agg({'price' : 'sum', 'order_item_id' : 'count'}).reset_index().rename(columns = {'price' : 's_total_volume', 'order_item_id' : 's_total_items'})"
   ]
  },
  {
   "cell_type": "code",
   "execution_count": 59,
   "metadata": {},
   "outputs": [],
   "source": [
    "df_oi['product_volume'] = df_oi[['product_length_cm',\t'product_height_cm','product_width_cm']].prod(axis =1)"
   ]
  },
  {
   "cell_type": "code",
   "execution_count": 60,
   "metadata": {},
   "outputs": [],
   "source": [
    "df_oi = pd.merge(left = df_oi, right = df_oi_s, on = 'seller_id', how = 'left')"
   ]
  },
  {
   "cell_type": "code",
   "execution_count": 61,
   "metadata": {},
   "outputs": [],
   "source": [
    "df_o['logistics_length'] = (df_o['order_delivered_customer_date'] - df_o['order_approved_at']).dt.days\n",
    "df_o['delay_length'] = (df_o['order_delivered_customer_date'] - df_o['order_estimated_delivery_date']).dt.days\n",
    "df_o['is_delayed'] = df_o['delay_length'] > 0"
   ]
  },
  {
   "cell_type": "code",
   "execution_count": 62,
   "metadata": {},
   "outputs": [],
   "source": [
    "df_oi_g = df_oi.groupby('order_id').agg({'customer_seller_distance' : 'max',\n",
    "                               'product_volume' : 'sum',\n",
    "                               'product_weight_g' : 'sum',\n",
    "                               'product_photos_qty' : 'sum',\n",
    "                               'freight_value' : 'sum',\n",
    "                               'order_item_id' : 'count',\n",
    "                               'shipping_limit_date' : 'min',\n",
    "                               'product_category_name' : lambda x: x.mode()[0],\n",
    "                               'seller_state' : lambda x: x.mode()[0],\n",
    "                               's_total_volume' : 'mean',\n",
    "                               's_total_items' : 'mean',\n",
    "                              }).reset_index()"
   ]
  },
  {
   "cell_type": "code",
   "execution_count": 63,
   "metadata": {},
   "outputs": [],
   "source": [
    "df_o = pd.merge(left = df_o, right = df_oi_g, on = ['order_id'], how = 'left')"
   ]
  },
  {
   "cell_type": "code",
   "execution_count": 64,
   "metadata": {},
   "outputs": [],
   "source": [
    "df_o['freight_ratio'] = df_o['freight_value'] / df_o['payment_value']"
   ]
  },
  {
   "cell_type": "code",
   "execution_count": 65,
   "metadata": {},
   "outputs": [
    {
     "data": {
      "text/plain": [
       "Index(['order_id', 'customer_id', 'order_status', 'order_purchase_timestamp',\n",
       "       'order_approved_at', 'order_delivered_carrier_date',\n",
       "       'order_delivered_customer_date', 'order_estimated_delivery_date',\n",
       "       'customer_unique_id', 'customer_zip_code_prefix', 'customer_city',\n",
       "       'customer_state', 'payment_value', 'review_score',\n",
       "       'geolocation_zip_code_prefix', 'c_lat', 'c_lng', 'logistics_length',\n",
       "       'delay_length', 'is_delayed', 'customer_seller_distance',\n",
       "       'product_volume', 'product_weight_g', 'product_photos_qty',\n",
       "       'freight_value', 'order_item_id', 'shipping_limit_date',\n",
       "       'product_category_name', 'seller_state', 's_total_volume',\n",
       "       's_total_items', 'freight_ratio'],\n",
       "      dtype='object')"
      ]
     },
     "execution_count": 65,
     "metadata": {},
     "output_type": "execute_result"
    }
   ],
   "source": [
    "df_o.columns"
   ]
  },
  {
   "cell_type": "code",
   "execution_count": 66,
   "metadata": {},
   "outputs": [
    {
     "data": {
      "text/html": [
       "<div>\n",
       "<style scoped>\n",
       "    .dataframe tbody tr th:only-of-type {\n",
       "        vertical-align: middle;\n",
       "    }\n",
       "\n",
       "    .dataframe tbody tr th {\n",
       "        vertical-align: top;\n",
       "    }\n",
       "\n",
       "    .dataframe thead th {\n",
       "        text-align: right;\n",
       "    }\n",
       "</style>\n",
       "<table border=\"1\" class=\"dataframe\">\n",
       "  <thead>\n",
       "    <tr style=\"text-align: right;\">\n",
       "      <th></th>\n",
       "      <th>customer_zip_code_prefix</th>\n",
       "      <th>payment_value</th>\n",
       "      <th>review_score</th>\n",
       "      <th>geolocation_zip_code_prefix</th>\n",
       "      <th>c_lat</th>\n",
       "      <th>c_lng</th>\n",
       "      <th>logistics_length</th>\n",
       "      <th>delay_length</th>\n",
       "      <th>customer_seller_distance</th>\n",
       "      <th>product_volume</th>\n",
       "      <th>product_weight_g</th>\n",
       "      <th>product_photos_qty</th>\n",
       "      <th>freight_value</th>\n",
       "      <th>order_item_id</th>\n",
       "      <th>s_total_volume</th>\n",
       "      <th>s_total_items</th>\n",
       "      <th>freight_ratio</th>\n",
       "    </tr>\n",
       "  </thead>\n",
       "  <tbody>\n",
       "    <tr>\n",
       "      <th>count</th>\n",
       "      <td>99441.000000</td>\n",
       "      <td>99440.000000</td>\n",
       "      <td>98673.000000</td>\n",
       "      <td>99163.000000</td>\n",
       "      <td>99163.000000</td>\n",
       "      <td>99163.000000</td>\n",
       "      <td>96462.000000</td>\n",
       "      <td>96476.000000</td>\n",
       "      <td>98666.000000</td>\n",
       "      <td>9.866600e+04</td>\n",
       "      <td>98666.000000</td>\n",
       "      <td>98666.000000</td>\n",
       "      <td>98666.000000</td>\n",
       "      <td>98666.000000</td>\n",
       "      <td>98666.000000</td>\n",
       "      <td>98666.000000</td>\n",
       "      <td>98665.000000</td>\n",
       "    </tr>\n",
       "    <tr>\n",
       "      <th>mean</th>\n",
       "      <td>35137.474583</td>\n",
       "      <td>160.990267</td>\n",
       "      <td>4.086793</td>\n",
       "      <td>35057.887176</td>\n",
       "      <td>-21.191224</td>\n",
       "      <td>-46.175442</td>\n",
       "      <td>11.642968</td>\n",
       "      <td>-11.876881</td>\n",
       "      <td>598.841489</td>\n",
       "      <td>1.740143e+04</td>\n",
       "      <td>2390.027669</td>\n",
       "      <td>2.486997</td>\n",
       "      <td>22.823562</td>\n",
       "      <td>1.141731</td>\n",
       "      <td>40695.499919</td>\n",
       "      <td>422.221620</td>\n",
       "      <td>0.208755</td>\n",
       "    </tr>\n",
       "    <tr>\n",
       "      <th>std</th>\n",
       "      <td>29797.938996</td>\n",
       "      <td>221.951257</td>\n",
       "      <td>1.346274</td>\n",
       "      <td>29784.314664</td>\n",
       "      <td>5.608637</td>\n",
       "      <td>4.056067</td>\n",
       "      <td>9.520747</td>\n",
       "      <td>10.183854</td>\n",
       "      <td>593.460201</td>\n",
       "      <td>3.040217e+04</td>\n",
       "      <td>4773.239825</td>\n",
       "      <td>2.233566</td>\n",
       "      <td>21.650909</td>\n",
       "      <td>0.538452</td>\n",
       "      <td>55132.011436</td>\n",
       "      <td>555.505352</td>\n",
       "      <td>0.125721</td>\n",
       "    </tr>\n",
       "    <tr>\n",
       "      <th>min</th>\n",
       "      <td>1003.000000</td>\n",
       "      <td>0.000000</td>\n",
       "      <td>1.000000</td>\n",
       "      <td>1003.000000</td>\n",
       "      <td>-33.689948</td>\n",
       "      <td>-72.668881</td>\n",
       "      <td>-7.000000</td>\n",
       "      <td>-147.000000</td>\n",
       "      <td>0.000000</td>\n",
       "      <td>1.000000e+00</td>\n",
       "      <td>0.000000</td>\n",
       "      <td>0.000000</td>\n",
       "      <td>0.000000</td>\n",
       "      <td>1.000000</td>\n",
       "      <td>3.500000</td>\n",
       "      <td>1.000000</td>\n",
       "      <td>0.000000</td>\n",
       "    </tr>\n",
       "    <tr>\n",
       "      <th>25%</th>\n",
       "      <td>11347.000000</td>\n",
       "      <td>62.010000</td>\n",
       "      <td>4.000000</td>\n",
       "      <td>11320.000000</td>\n",
       "      <td>-23.589378</td>\n",
       "      <td>-48.097950</td>\n",
       "      <td>6.000000</td>\n",
       "      <td>-17.000000</td>\n",
       "      <td>179.924587</td>\n",
       "      <td>2.964000e+03</td>\n",
       "      <td>300.000000</td>\n",
       "      <td>1.000000</td>\n",
       "      <td>13.850000</td>\n",
       "      <td>1.000000</td>\n",
       "      <td>5042.550000</td>\n",
       "      <td>57.000000</td>\n",
       "      <td>0.116502</td>\n",
       "    </tr>\n",
       "    <tr>\n",
       "      <th>50%</th>\n",
       "      <td>24416.000000</td>\n",
       "      <td>105.290000</td>\n",
       "      <td>5.000000</td>\n",
       "      <td>24350.000000</td>\n",
       "      <td>-22.924970</td>\n",
       "      <td>-46.630647</td>\n",
       "      <td>9.000000</td>\n",
       "      <td>-12.000000</td>\n",
       "      <td>432.234602</td>\n",
       "      <td>7.260000e+03</td>\n",
       "      <td>750.000000</td>\n",
       "      <td>2.000000</td>\n",
       "      <td>17.170000</td>\n",
       "      <td>1.000000</td>\n",
       "      <td>14362.300000</td>\n",
       "      <td>173.000000</td>\n",
       "      <td>0.183256</td>\n",
       "    </tr>\n",
       "    <tr>\n",
       "      <th>75%</th>\n",
       "      <td>58900.000000</td>\n",
       "      <td>176.970000</td>\n",
       "      <td>5.000000</td>\n",
       "      <td>58406.500000</td>\n",
       "      <td>-20.139828</td>\n",
       "      <td>-43.598897</td>\n",
       "      <td>15.000000</td>\n",
       "      <td>-7.000000</td>\n",
       "      <td>797.068732</td>\n",
       "      <td>1.987200e+04</td>\n",
       "      <td>2066.750000</td>\n",
       "      <td>3.000000</td>\n",
       "      <td>24.040000</td>\n",
       "      <td>1.000000</td>\n",
       "      <td>46610.400000</td>\n",
       "      <td>522.000000</td>\n",
       "      <td>0.275422</td>\n",
       "    </tr>\n",
       "    <tr>\n",
       "      <th>max</th>\n",
       "      <td>99990.000000</td>\n",
       "      <td>13664.080000</td>\n",
       "      <td>5.000000</td>\n",
       "      <td>99990.000000</td>\n",
       "      <td>42.184003</td>\n",
       "      <td>-8.723762</td>\n",
       "      <td>208.000000</td>\n",
       "      <td>188.000000</td>\n",
       "      <td>8652.119722</td>\n",
       "      <td>1.476000e+06</td>\n",
       "      <td>184400.000000</td>\n",
       "      <td>62.000000</td>\n",
       "      <td>1794.960000</td>\n",
       "      <td>21.000000</td>\n",
       "      <td>229472.630000</td>\n",
       "      <td>2033.000000</td>\n",
       "      <td>0.955451</td>\n",
       "    </tr>\n",
       "  </tbody>\n",
       "</table>\n",
       "</div>"
      ],
      "text/plain": [
       "       customer_zip_code_prefix  payment_value  review_score  \\\n",
       "count              99441.000000   99440.000000  98673.000000   \n",
       "mean               35137.474583     160.990267      4.086793   \n",
       "std                29797.938996     221.951257      1.346274   \n",
       "min                 1003.000000       0.000000      1.000000   \n",
       "25%                11347.000000      62.010000      4.000000   \n",
       "50%                24416.000000     105.290000      5.000000   \n",
       "75%                58900.000000     176.970000      5.000000   \n",
       "max                99990.000000   13664.080000      5.000000   \n",
       "\n",
       "       geolocation_zip_code_prefix         c_lat         c_lng  \\\n",
       "count                 99163.000000  99163.000000  99163.000000   \n",
       "mean                  35057.887176    -21.191224    -46.175442   \n",
       "std                   29784.314664      5.608637      4.056067   \n",
       "min                    1003.000000    -33.689948    -72.668881   \n",
       "25%                   11320.000000    -23.589378    -48.097950   \n",
       "50%                   24350.000000    -22.924970    -46.630647   \n",
       "75%                   58406.500000    -20.139828    -43.598897   \n",
       "max                   99990.000000     42.184003     -8.723762   \n",
       "\n",
       "       logistics_length  delay_length  customer_seller_distance  \\\n",
       "count      96462.000000  96476.000000              98666.000000   \n",
       "mean          11.642968    -11.876881                598.841489   \n",
       "std            9.520747     10.183854                593.460201   \n",
       "min           -7.000000   -147.000000                  0.000000   \n",
       "25%            6.000000    -17.000000                179.924587   \n",
       "50%            9.000000    -12.000000                432.234602   \n",
       "75%           15.000000     -7.000000                797.068732   \n",
       "max          208.000000    188.000000               8652.119722   \n",
       "\n",
       "       product_volume  product_weight_g  product_photos_qty  freight_value  \\\n",
       "count    9.866600e+04      98666.000000        98666.000000   98666.000000   \n",
       "mean     1.740143e+04       2390.027669            2.486997      22.823562   \n",
       "std      3.040217e+04       4773.239825            2.233566      21.650909   \n",
       "min      1.000000e+00          0.000000            0.000000       0.000000   \n",
       "25%      2.964000e+03        300.000000            1.000000      13.850000   \n",
       "50%      7.260000e+03        750.000000            2.000000      17.170000   \n",
       "75%      1.987200e+04       2066.750000            3.000000      24.040000   \n",
       "max      1.476000e+06     184400.000000           62.000000    1794.960000   \n",
       "\n",
       "       order_item_id  s_total_volume  s_total_items  freight_ratio  \n",
       "count   98666.000000    98666.000000   98666.000000   98665.000000  \n",
       "mean        1.141731    40695.499919     422.221620       0.208755  \n",
       "std         0.538452    55132.011436     555.505352       0.125721  \n",
       "min         1.000000        3.500000       1.000000       0.000000  \n",
       "25%         1.000000     5042.550000      57.000000       0.116502  \n",
       "50%         1.000000    14362.300000     173.000000       0.183256  \n",
       "75%         1.000000    46610.400000     522.000000       0.275422  \n",
       "max        21.000000   229472.630000    2033.000000       0.955451  "
      ]
     },
     "execution_count": 66,
     "metadata": {},
     "output_type": "execute_result"
    }
   ],
   "source": [
    "df_o.describe()"
   ]
  },
  {
   "cell_type": "code",
   "execution_count": 67,
   "metadata": {},
   "outputs": [],
   "source": [
    "df_o['target'] = np.where(df_o['review_score'] < 5, '0', '1').astype(int)"
   ]
  },
  {
   "cell_type": "code",
   "execution_count": 68,
   "metadata": {},
   "outputs": [
    {
     "data": {
      "text/plain": [
       "0        0\n",
       "1        0\n",
       "2        1\n",
       "3        1\n",
       "4        1\n",
       "        ..\n",
       "99436    1\n",
       "99437    0\n",
       "99438    1\n",
       "99439    0\n",
       "99440    1\n",
       "Name: target, Length: 99441, dtype: int32"
      ]
     },
     "execution_count": 68,
     "metadata": {},
     "output_type": "execute_result"
    }
   ],
   "source": [
    "df_o['target'] "
   ]
  },
  {
   "cell_type": "code",
   "execution_count": 69,
   "metadata": {},
   "outputs": [
    {
     "data": {
      "text/plain": [
       "1    57723\n",
       "0    41718\n",
       "Name: target, dtype: int64"
      ]
     },
     "execution_count": 69,
     "metadata": {},
     "output_type": "execute_result"
    }
   ],
   "source": [
    "df_o['target'].value_counts()"
   ]
  },
  {
   "cell_type": "code",
   "execution_count": 70,
   "metadata": {},
   "outputs": [],
   "source": [
    "df_o.drop(columns = ['review_score'], inplace = True)"
   ]
  },
  {
   "cell_type": "code",
   "execution_count": 71,
   "metadata": {},
   "outputs": [],
   "source": [
    "df_o['customer_state'] = df_o['customer_state'].map({'SP': 'SP',\n",
    "                      'BA': 'BA',\n",
    "                      'GO': 'GO',\n",
    "                      'RN': 'NE',\n",
    "                      'PR': 'PR',\n",
    "                      'RS': 'RS',\n",
    "                      'RJ': 'RJ',\n",
    "                      'MG': 'MG',\n",
    "                      'SC': 'SC',\n",
    "                      'RR': 'N',\n",
    "                      'PE': 'PE',\n",
    "                      'TO': 'N',\n",
    "                      'CE': 'CE',\n",
    "                      'DF': 'DF',\n",
    "                      'SE': 'NE',\n",
    "                      'MT': 'CO',\n",
    "                      'PB': 'NE',\n",
    "                      'PA': 'N',\n",
    "                      'RO': 'N',\n",
    "                      'ES': 'ES',\n",
    "                      'AP': 'N',\n",
    "                      'MS': 'CO',\n",
    "                      'MA': 'NE',\n",
    "                      'PI': 'NE',\n",
    "                      'AL': 'NE',\n",
    "                      'AC': 'N',\n",
    "                      'AM': 'N'})\n",
    "\n",
    "df_o['seller_state'] = df_o['seller_state'].map({'SP': 'SP',\n",
    "                      'BA': 'BA',\n",
    "                      'GO': 'GO',\n",
    "                      'RN': 'NE',\n",
    "                      'PR': 'PR',\n",
    "                      'RS': 'RS',\n",
    "                      'RJ': 'RJ',\n",
    "                      'MG': 'MG',\n",
    "                      'SC': 'SC',\n",
    "                      'RR': 'N',\n",
    "                      'PE': 'PE',\n",
    "                      'TO': 'N',\n",
    "                      'CE': 'CE',\n",
    "                      'DF': 'DF',\n",
    "                      'SE': 'NE',\n",
    "                      'MT': 'CO',\n",
    "                      'PB': 'NE',\n",
    "                      'PA': 'N',\n",
    "                      'RO': 'N',\n",
    "                      'ES': 'ES',\n",
    "                      'AP': 'N',\n",
    "                      'MS': 'CO',\n",
    "                      'MA': 'NE',\n",
    "                      'PI': 'NE',\n",
    "                      'AL': 'NE',\n",
    "                      'AC': 'N',\n",
    "                      'AM': 'N'})"
   ]
  }
 ],
 "metadata": {
  "kernelspec": {
   "display_name": "base",
   "language": "python",
   "name": "python3"
  },
  "language_info": {
   "codemirror_mode": {
    "name": "ipython",
    "version": 3
   },
   "file_extension": ".py",
   "mimetype": "text/x-python",
   "name": "python",
   "nbconvert_exporter": "python",
   "pygments_lexer": "ipython3",
   "version": "3.10.9"
  },
  "orig_nbformat": 4
 },
 "nbformat": 4,
 "nbformat_minor": 2
}
